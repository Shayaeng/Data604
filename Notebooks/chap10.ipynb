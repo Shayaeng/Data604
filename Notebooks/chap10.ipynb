{
 "cells": [
  {
   "cell_type": "markdown",
   "id": "dense-storm",
   "metadata": {},
   "source": [
    "# Case Studies Part 1"
   ]
  },
  {
   "cell_type": "markdown",
   "id": "imported-table",
   "metadata": {
    "tags": []
   },
   "source": [
    "*Modeling and Simulation in Python*\n",
    "\n",
    "Copyright 2021 Allen Downey\n",
    "\n",
    "License: [Creative Commons Attribution-NonCommercial-ShareAlike 4.0 International](https://creativecommons.org/licenses/by-nc-sa/4.0/)"
   ]
  },
  {
   "cell_type": "code",
   "execution_count": 38,
   "id": "formal-context",
   "metadata": {
    "tags": []
   },
   "outputs": [],
   "source": [
    "# download modsim.py if necessary\n",
    "\n",
    "from os.path import basename, exists\n",
    "\n",
    "def download(url):\n",
    "    filename = basename(url)\n",
    "    if not exists(filename):\n",
    "        from urllib.request import urlretrieve\n",
    "        local, _ = urlretrieve(url, filename)\n",
    "        print('Downloaded ' + local)\n",
    "    \n",
    "download('https://raw.githubusercontent.com/AllenDowney/' +\n",
    "         'ModSimPy/master/modsim.py')"
   ]
  },
  {
   "cell_type": "code",
   "execution_count": 39,
   "id": "progressive-typing",
   "metadata": {
    "tags": []
   },
   "outputs": [],
   "source": [
    "# import functions from modsim\n",
    "\n",
    "from modsim import *"
   ]
  },
  {
   "cell_type": "markdown",
   "id": "thirty-medication",
   "metadata": {},
   "source": [
    "This chapter presents case studies where you can apply the tools we have learned so far to problems involving population growth, queueing systems, and tree growth. \n",
    "\n",
    "This chapter is available as a Jupyter notebook where you can read the text, run the code, and work on the exercises. \n",
    "Click here to access the notebooks: <https://allendowney.github.io/ModSimPy/>."
   ]
  },
  {
   "cell_type": "markdown",
   "id": "industrial-mercy",
   "metadata": {},
   "source": [
    "## Historical World Population\n",
    "\n",
    "The Wikipedia page about world population growth includes estimates for world population from 12,000 years ago to the present (see <https://en.wikipedia.org/wiki/World_population_estimates.html>)."
   ]
  },
  {
   "cell_type": "markdown",
   "id": "weekly-class",
   "metadata": {
    "tags": []
   },
   "source": [
    "The following cells download an archived version of this page and read the data into a Pandas `DataFrame`."
   ]
  },
  {
   "cell_type": "code",
   "execution_count": 40,
   "id": "usual-penguin",
   "metadata": {
    "tags": []
   },
   "outputs": [],
   "source": [
    "download('https://raw.githubusercontent.com/AllenDowney/' +\n",
    "         'ModSimPy/master/data/World_population_estimates.html')"
   ]
  },
  {
   "cell_type": "code",
   "execution_count": 41,
   "id": "thick-lincoln",
   "metadata": {
    "tags": []
   },
   "outputs": [
    {
     "data": {
      "text/plain": [
       "6"
      ]
     },
     "execution_count": 41,
     "metadata": {},
     "output_type": "execute_result"
    }
   ],
   "source": [
    "from pandas import read_html\n",
    "\n",
    "filename = 'World_population_estimates.html'\n",
    "tables = read_html(filename, header=0, index_col=0, decimal='M')\n",
    "len(tables)"
   ]
  },
  {
   "cell_type": "code",
   "execution_count": 42,
   "id": "conscious-orange",
   "metadata": {
    "tags": []
   },
   "outputs": [
    {
     "data": {
      "text/html": [
       "<div>\n",
       "<style scoped>\n",
       "    .dataframe tbody tr th:only-of-type {\n",
       "        vertical-align: middle;\n",
       "    }\n",
       "\n",
       "    .dataframe tbody tr th {\n",
       "        vertical-align: top;\n",
       "    }\n",
       "\n",
       "    .dataframe thead th {\n",
       "        text-align: right;\n",
       "    }\n",
       "</style>\n",
       "<table border=\"1\" class=\"dataframe\">\n",
       "  <thead>\n",
       "    <tr style=\"text-align: right;\">\n",
       "      <th></th>\n",
       "      <th>Population Reference Bureau (1973–2016)[15]</th>\n",
       "      <th>United Nations Department of Economic and Social Affairs (2015)[16]</th>\n",
       "      <th>Maddison (2008)[17]</th>\n",
       "      <th>HYDE (2010)[citation needed]</th>\n",
       "      <th>Tanton (1994)[18]</th>\n",
       "      <th>Biraben (1980)[19]</th>\n",
       "      <th>McEvedy &amp; Jones (1978)[20]</th>\n",
       "      <th>Thomlinson (1975)[21]</th>\n",
       "      <th>Durand (1974)[22]</th>\n",
       "      <th>Clark (1967)[23]</th>\n",
       "    </tr>\n",
       "    <tr>\n",
       "      <th>Year</th>\n",
       "      <th></th>\n",
       "      <th></th>\n",
       "      <th></th>\n",
       "      <th></th>\n",
       "      <th></th>\n",
       "      <th></th>\n",
       "      <th></th>\n",
       "      <th></th>\n",
       "      <th></th>\n",
       "      <th></th>\n",
       "    </tr>\n",
       "  </thead>\n",
       "  <tbody>\n",
       "    <tr>\n",
       "      <th>-10000</th>\n",
       "      <td>NaN</td>\n",
       "      <td>NaN</td>\n",
       "      <td>NaN</td>\n",
       "      <td>2M[24]</td>\n",
       "      <td>NaN</td>\n",
       "      <td>NaN</td>\n",
       "      <td>4.0</td>\n",
       "      <td>1–10M</td>\n",
       "      <td>NaN</td>\n",
       "      <td>NaN</td>\n",
       "    </tr>\n",
       "    <tr>\n",
       "      <th>-9000</th>\n",
       "      <td>NaN</td>\n",
       "      <td>NaN</td>\n",
       "      <td>NaN</td>\n",
       "      <td>4.</td>\n",
       "      <td>NaN</td>\n",
       "      <td>NaN</td>\n",
       "      <td>NaN</td>\n",
       "      <td>NaN</td>\n",
       "      <td>NaN</td>\n",
       "      <td>NaN</td>\n",
       "    </tr>\n",
       "    <tr>\n",
       "      <th>-8000</th>\n",
       "      <td>5.</td>\n",
       "      <td>NaN</td>\n",
       "      <td>NaN</td>\n",
       "      <td>5.</td>\n",
       "      <td>NaN</td>\n",
       "      <td>NaN</td>\n",
       "      <td>NaN</td>\n",
       "      <td>NaN</td>\n",
       "      <td>5–10M</td>\n",
       "      <td>NaN</td>\n",
       "    </tr>\n",
       "    <tr>\n",
       "      <th>-7000</th>\n",
       "      <td>NaN</td>\n",
       "      <td>NaN</td>\n",
       "      <td>NaN</td>\n",
       "      <td>8.</td>\n",
       "      <td>NaN</td>\n",
       "      <td>NaN</td>\n",
       "      <td>NaN</td>\n",
       "      <td>NaN</td>\n",
       "      <td>NaN</td>\n",
       "      <td>NaN</td>\n",
       "    </tr>\n",
       "    <tr>\n",
       "      <th>-6000</th>\n",
       "      <td>NaN</td>\n",
       "      <td>NaN</td>\n",
       "      <td>NaN</td>\n",
       "      <td>11.</td>\n",
       "      <td>NaN</td>\n",
       "      <td>NaN</td>\n",
       "      <td>NaN</td>\n",
       "      <td>NaN</td>\n",
       "      <td>NaN</td>\n",
       "      <td>NaN</td>\n",
       "    </tr>\n",
       "  </tbody>\n",
       "</table>\n",
       "</div>"
      ],
      "text/plain": [
       "       Population Reference Bureau (1973–2016)[15]  \\\n",
       "Year                                                 \n",
       "-10000                                         NaN   \n",
       "-9000                                          NaN   \n",
       "-8000                                           5.   \n",
       "-7000                                          NaN   \n",
       "-6000                                          NaN   \n",
       "\n",
       "        United Nations Department of Economic and Social Affairs (2015)[16]  \\\n",
       "Year                                                                          \n",
       "-10000                                                NaN                     \n",
       "-9000                                                 NaN                     \n",
       "-8000                                                 NaN                     \n",
       "-7000                                                 NaN                     \n",
       "-6000                                                 NaN                     \n",
       "\n",
       "       Maddison (2008)[17] HYDE (2010)[citation needed]  Tanton (1994)[18]  \\\n",
       "Year                                                                         \n",
       "-10000                 NaN                       2M[24]                NaN   \n",
       "-9000                  NaN                           4.                NaN   \n",
       "-8000                  NaN                           5.                NaN   \n",
       "-7000                  NaN                           8.                NaN   \n",
       "-6000                  NaN                          11.                NaN   \n",
       "\n",
       "        Biraben (1980)[19]  McEvedy & Jones (1978)[20] Thomlinson (1975)[21]  \\\n",
       "Year                                                                           \n",
       "-10000                 NaN                         4.0                 1–10M   \n",
       "-9000                  NaN                         NaN                   NaN   \n",
       "-8000                  NaN                         NaN                   NaN   \n",
       "-7000                  NaN                         NaN                   NaN   \n",
       "-6000                  NaN                         NaN                   NaN   \n",
       "\n",
       "       Durand (1974)[22] Clark (1967)[23]  \n",
       "Year                                       \n",
       "-10000               NaN              NaN  \n",
       "-9000                NaN              NaN  \n",
       "-8000              5–10M              NaN  \n",
       "-7000                NaN              NaN  \n",
       "-6000                NaN              NaN  "
      ]
     },
     "execution_count": 42,
     "metadata": {},
     "output_type": "execute_result"
    }
   ],
   "source": [
    "table1 = tables[1]\n",
    "table1.head()"
   ]
  },
  {
   "cell_type": "markdown",
   "id": "hungry-monster",
   "metadata": {
    "tags": []
   },
   "source": [
    "Some of the values are null because not all researchers provide estimates for the same dates.\n",
    "\n",
    "Again, we'll replace the long column names with more convenient abbreviations."
   ]
  },
  {
   "cell_type": "code",
   "execution_count": 43,
   "id": "thick-blanket",
   "metadata": {
    "tags": []
   },
   "outputs": [],
   "source": [
    "table1.columns = ['PRB', 'UN', 'Maddison', 'HYDE', 'Tanton', \n",
    "                  'Biraben', 'McEvedy & Jones', 'Thomlinson', 'Durand', 'Clark']"
   ]
  },
  {
   "cell_type": "markdown",
   "id": "substantial-implement",
   "metadata": {
    "tags": []
   },
   "source": [
    "Some of the estimates are in a form Pandas doesn't recognize as numbers, but we can coerce them to be numeric."
   ]
  },
  {
   "cell_type": "code",
   "execution_count": 44,
   "id": "ranking-prescription",
   "metadata": {
    "tags": []
   },
   "outputs": [],
   "source": [
    "for col in table1.columns:\n",
    "    table1[col] = pd.to_numeric(table1[col], errors='coerce')"
   ]
  },
  {
   "cell_type": "markdown",
   "id": "amazing-difference",
   "metadata": {
    "tags": []
   },
   "source": [
    "Here are the results.  Notice that we are working in millions now, not billions."
   ]
  },
  {
   "cell_type": "code",
   "execution_count": 45,
   "id": "metallic-offense",
   "metadata": {
    "scrolled": false,
    "tags": []
   },
   "outputs": [
    {
     "data": {
      "image/png": "[encoded data removed]",
      "text/plain": [
       "<Figure size 450x300 with 1 Axes>"
      ]
     },
     "metadata": {},
     "output_type": "display_data"
    }
   ],
   "source": [
    "table1.plot()\n",
    "decorate(xlim=[-10000, 2000], xlabel='Year', \n",
    "         ylabel='World population (millions)',\n",
    "         title='Prehistoric population estimates')\n",
    "plt.legend(fontsize='small');"
   ]
  },
  {
   "cell_type": "markdown",
   "id": "human-conservation",
   "metadata": {
    "tags": []
   },
   "source": [
    "We can use `xlim` to zoom in on everything after Year 0."
   ]
  },
  {
   "cell_type": "markdown",
   "id": "conventional-nudist",
   "metadata": {},
   "source": [
    "The following figure shows the estimates of several research groups from 1 CE to the near present."
   ]
  },
  {
   "cell_type": "code",
   "execution_count": 46,
   "id": "solar-action",
   "metadata": {},
   "outputs": [
    {
     "data": {
      "image/png": "[encoded data removed]",
      "text/plain": [
       "<Figure size 450x300 with 1 Axes>"
      ]
     },
     "metadata": {},
     "output_type": "display_data"
    }
   ],
   "source": [
    "table1.plot()\n",
    "decorate(xlim=[0, 2000], xlabel='Year', \n",
    "         ylabel='World population (millions)',\n",
    "         title='CE population estimates')"
   ]
  },
  {
   "cell_type": "markdown",
   "id": "wanted-fantasy",
   "metadata": {},
   "source": [
    "See if you can find a model that fits these estimates.\n",
    "How well does your best model predict actual population growth from 1940 to the present?"
   ]
  },
  {
   "cell_type": "code",
   "execution_count": 78,
   "id": "7c69f3ba",
   "metadata": {},
   "outputs": [],
   "source": [
    "def mean_squared_error(y_true, y_pred):\n",
    "    return np.mean((y_true - y_pred)**2)\n",
    "\n",
    "def grid_search(hyde, t, alpha_range, beta_range):\n",
    "    best_alpha = None\n",
    "    best_beta = None\n",
    "    best_mse = float('inf')\n",
    "    best_timeseries = None\n",
    "    \n",
    "    for alpha in alpha_range:\n",
    "        for beta in beta_range:\n",
    "            system = System(t_0=t.min(), t_end=t.max(), p_0=hyde.iloc[0], alpha=alpha, beta=beta)\n",
    "            timeseries = run_simulation(system, update_func)\n",
    "            y_pred = timeseries.reindex(t).interpolate(method='linear')\n",
    "            mse = mean_squared_error(hyde, y_pred)\n",
    "            print(f\"Alpha: {alpha}, Beta: {beta}, MSE: {mse}\")\n",
    "            if mse < best_mse:\n",
    "                best_mse = mse\n",
    "                best_alpha = alpha\n",
    "                best_beta = beta\n",
    "                best_timeseries = timeseries\n",
    "                \n",
    "    return best_alpha, best_beta, best_timeseries\n",
    "\n",
    "def plot_results(hyde, timeseries, title):\n",
    "    \"\"\"Plot the estimates and the model.\"\"\"\n",
    "    plt.figure(figsize=(10, 6))\n",
    "    plt.plot(hyde.index, hyde, ':', label='HYDE')\n",
    "    \n",
    "    if timeseries is not None:\n",
    "        plt.plot(timeseries.index, timeseries, color='gray', label='model')\n",
    "    else:\n",
    "        print(\"Warning: No timeseries to plot\")\n",
    "    \n",
    "    decorate(xlabel='Year', \n",
    "             ylabel='World population (million)',\n",
    "             title=title)\n",
    "    plt.legend()\n",
    "    plt.show()"
   ]
  },
  {
   "cell_type": "code",
   "execution_count": 96,
   "id": "be0382de",
   "metadata": {},
   "outputs": [
    {
     "name": "stdout",
     "output_type": "stream",
     "text": [
      "Alpha: 0.001, Beta: -50.0, MSE: 1.9633286804686098e-13\n",
      "Alpha: 0.001, Beta: -100.0, MSE: 2.1653393456043955e-13\n",
      "Alpha: 0.001, Beta: -150.0, MSE: 2.3637726961065344e-13\n",
      "Alpha: 0.001, Beta: -200.0, MSE: 2.557499399618775e-13\n",
      "Alpha: 0.001, Beta: -250.0, MSE: 2.7458073098437293e-13\n",
      "Alpha: 0.001, Beta: -300.0, MSE: 2.928277977595581e-13\n",
      "Alpha: 0.001, Beta: -350.0, MSE: 3.1046998141009537e-13\n",
      "Alpha: 0.001, Beta: -400.0, MSE: 3.275006527214401e-13\n",
      "Alpha: 0.001, Beta: -450.0, MSE: 3.43923318094847e-13\n",
      "Alpha: 0.001, Beta: -500.0, MSE: 3.5974846678453837e-13\n",
      "Alpha: 0.0011, Beta: -50.0, MSE: 1.3441591353698185e-13\n",
      "Alpha: 0.0011, Beta: -100.0, MSE: 1.5210454328917578e-13\n",
      "Alpha: 0.0011, Beta: -150.0, MSE: 1.7046568963168669e-13\n",
      "Alpha: 0.0011, Beta: -200.0, MSE: 1.891099481255024e-13\n",
      "Alpha: 0.0011, Beta: -250.0, MSE: 2.0776517468723586e-13\n",
      "Alpha: 0.0011, Beta: -300.0, MSE: 2.2624206534097325e-13\n",
      "Alpha: 0.0011, Beta: -350.0, MSE: 2.4441033163132906e-13\n",
      "Alpha: 0.0011, Beta: -400.0, MSE: 2.621820046195666e-13\n",
      "Alpha: 0.0011, Beta: -450.0, MSE: 2.794996061216597e-13\n",
      "Alpha: 0.0011, Beta: -500.0, MSE: 2.9632768765972244e-13\n",
      "Alpha: 0.0012000000000000001, Beta: -50.0, MSE: 1.014579301473753e-13\n",
      "Alpha: 0.0012000000000000001, Beta: -100.0, MSE: 1.108764579747828e-13\n",
      "Alpha: 0.0012000000000000001, Beta: -150.0, MSE: 1.2333244280409058e-13\n",
      "Alpha: 0.0012000000000000001, Beta: -200.0, MSE: 1.3780660472655703e-13\n",
      "Alpha: 0.0012000000000000001, Beta: -250.0, MSE: 1.5357675466808689e-13\n",
      "Alpha: 0.0012000000000000001, Beta: -300.0, MSE: 1.7012761159616898e-13\n",
      "Alpha: 0.0012000000000000001, Beta: -350.0, MSE: 1.870899028692299e-13\n",
      "Alpha: 0.0012000000000000001, Beta: -400.0, MSE: 2.0419856551278256e-13\n",
      "Alpha: 0.0012000000000000001, Beta: -450.0, MSE: 2.2126363938176237e-13\n",
      "Alpha: 0.0012000000000000001, Beta: -500.0, MSE: 2.3814973511043187e-13\n",
      "Alpha: 0.0013, Beta: -50.0, MSE: 1.184598596956678e-13\n",
      "Alpha: 0.0013, Beta: -100.0, MSE: 1.0929342559908402e-13\n",
      "Alpha: 0.0013, Beta: -150.0, MSE: 1.0808632277336138e-13\n",
      "Alpha: 0.0013, Beta: -200.0, MSE: 1.1246077599900409e-13\n",
      "Alpha: 0.0013, Beta: -250.0, MSE: 1.2074762541366854e-13\n",
      "Alpha: 0.0013, Beta: -300.0, MSE: 1.317597733995926e-13\n",
      "Alpha: 0.0013, Beta: -350.0, MSE: 1.4464385152049795e-13\n",
      "Alpha: 0.0013, Beta: -400.0, MSE: 1.5878109698919922e-13\n",
      "Alpha: 0.0013, Beta: -450.0, MSE: 1.7371990118415253e-13\n",
      "Alpha: 0.0013, Beta: -500.0, MSE: 1.8912916189949153e-13\n",
      "Alpha: 0.0014, Beta: -50.0, MSE: 2.1598874780184538e-13\n",
      "Alpha: 0.0014, Beta: -100.0, MSE: 1.7050284461655475e-13\n",
      "Alpha: 0.0014, Beta: -150.0, MSE: 1.4264385396073342e-13\n",
      "Alpha: 0.0014, Beta: -200.0, MSE: 1.2721388255126546e-13\n",
      "Alpha: 0.0014, Beta: -250.0, MSE: 1.206369439876427e-13\n",
      "Alpha: 0.0014, Beta: -300.0, MSE: 1.204079518092453e-13\n",
      "Alpha: 0.0014, Beta: -350.0, MSE: 1.247447398426123e-13\n",
      "Alpha: 0.0014, Beta: -400.0, MSE: 1.3236269130203647e-13\n",
      "Alpha: 0.0014, Beta: -450.0, MSE: 1.4232549849969211e-13\n",
      "Alpha: 0.0014, Beta: -500.0, MSE: 1.539443708471628e-13\n",
      "Alpha: 0.0015, Beta: -50.0, MSE: 4.3778255860623164e-13\n",
      "Alpha: 0.0015, Beta: -100.0, MSE: 3.2639433779987444e-13\n",
      "Alpha: 0.0015, Beta: -150.0, MSE: 2.5088653927287264e-13\n",
      "Alpha: 0.0015, Beta: -200.0, MSE: 2.0037809985322458e-13\n",
      "Alpha: 0.0015, Beta: -250.0, MSE: 1.67584458043092e-13\n",
      "Alpha: 0.0015, Beta: -300.0, MSE: 1.4751377765849314e-13\n",
      "Alpha: 0.0015, Beta: -350.0, MSE: 1.3667648341566875e-13\n",
      "Alpha: 0.0015, Beta: -400.0, MSE: 1.3259102248399585e-13\n",
      "Alpha: 0.0015, Beta: -450.0, MSE: 1.3346643159895624e-13\n",
      "Alpha: 0.0015, Beta: -500.0, MSE: 1.3799359042372269e-13\n",
      "Alpha: 0.0015999999999999999, Beta: -50.0, MSE: 8.454806824656369e-13\n",
      "Alpha: 0.0015999999999999999, Beta: -100.0, MSE: 6.200214377413199e-13\n",
      "Alpha: 0.0015999999999999999, Beta: -150.0, MSE: 4.638888189488504e-13\n",
      "Alpha: 0.0015999999999999999, Beta: -200.0, MSE: 3.550329429270893e-13\n",
      "Alpha: 0.0015999999999999999, Beta: -250.0, MSE: 2.7916871537077285e-13\n",
      "Alpha: 0.0015999999999999999, Beta: -300.0, MSE: 2.267676142152996e-13\n",
      "Alpha: 0.0015999999999999999, Beta: -350.0, MSE: 1.9131457998966822e-13\n",
      "Alpha: 0.0015999999999999999, Beta: -400.0, MSE: 1.68259510480495e-13\n",
      "Alpha: 0.0015999999999999999, Beta: -450.0, MSE: 1.543659397572814e-13\n",
      "Alpha: 0.0015999999999999999, Beta: -500.0, MSE: 1.4729495147860804e-13\n",
      "Alpha: 0.0017, Beta: -50.0, MSE: 1.5247224105088611e-12\n",
      "Alpha: 0.0017, Beta: -100.0, MSE: 1.1083672313847146e-12\n",
      "Alpha: 0.0017, Beta: -150.0, MSE: 8.211231123370832e-13\n",
      "Alpha: 0.0017, Beta: -200.0, MSE: 6.194847443318009e-13\n",
      "Alpha: 0.0017, Beta: -250.0, MSE: 4.763096369405798e-13\n",
      "Alpha: 0.0017, Beta: -300.0, MSE: 3.740443888646518e-13\n",
      "Alpha: 0.0017, Beta: -350.0, MSE: 3.009896351974143e-13\n",
      "Alpha: 0.0017, Beta: -400.0, MSE: 2.491455255796491e-13\n",
      "Alpha: 0.0017, Beta: -450.0, MSE: 2.1292037861828836e-13\n",
      "Alpha: 0.0017, Beta: -500.0, MSE: 1.8833076075159785e-13\n",
      "Alpha: 0.0018, Beta: -50.0, MSE: 2.592847077385747e-12\n",
      "Alpha: 0.0018, Beta: -100.0, MSE: 1.8653463447897943e-12\n",
      "Alpha: 0.0018, Beta: -150.0, MSE: 1.3715054243675876e-12\n",
      "Alpha: 0.0018, Beta: -200.0, MSE: 1.0274893596964786e-12\n",
      "Alpha: 0.0018, Beta: -250.0, MSE: 7.83155023416421e-13\n",
      "Alpha: 0.0018, Beta: -300.0, MSE: 6.071671296273494e-13\n",
      "Alpha: 0.0018, Beta: -350.0, MSE: 4.792211749990802e-13\n",
      "Alpha: 0.0018, Beta: -400.0, MSE: 3.8575379549167373e-13\n",
      "Alpha: 0.0018, Beta: -450.0, MSE: 3.1746706450167003e-13\n",
      "Alpha: 0.0018, Beta: -500.0, MSE: 2.6784362051819723e-13\n",
      "Alpha: 0.0019, Beta: -50.0, MSE: 4.208378035810555e-12\n",
      "Alpha: 0.0019, Beta: -100.0, MSE: 2.9848440792520884e-12\n",
      "Alpha: 0.0019, Beta: -150.0, MSE: 2.1741044593759512e-12\n",
      "Alpha: 0.0019, Beta: -200.0, MSE: 1.6181333916936583e-12\n",
      "Alpha: 0.0019, Beta: -250.0, MSE: 1.2267015188728398e-12\n",
      "Alpha: 0.0019, Beta: -300.0, MSE: 9.454822644757173e-13\n",
      "Alpha: 0.0019, Beta: -350.0, MSE: 7.403239646467105e-13\n",
      "Alpha: 0.0019, Beta: -400.0, MSE: 5.889760437354776e-13\n",
      "Alpha: 0.0019, Beta: -450.0, MSE: 4.764986376367517e-13\n",
      "Alpha: 0.0019, Beta: -500.0, MSE: 3.9259964737061065e-13\n",
      "Best Alpha: 0.0012000000000000001, Best Beta: -50.0\n"
     ]
    },
    {
     "data": {
      "image/png": "[encoded data removed]",
      "text/plain": [
       "<Figure size 750x450 with 1 Axes>"
      ]
     },
     "metadata": {},
     "output_type": "display_data"
    }
   ],
   "source": [
    "# Assuming table1 is a pandas DataFrame with the relevant data\n",
    "hyde = table1.HYDE / 1e9\n",
    "hyde = hyde.dropna()\n",
    "# drop all rows before year 0 \n",
    "hyde = hyde[hyde.index >= 0]\n",
    "\n",
    "# Define the range of alpha and beta values for grid search\n",
    "#alpha_range = np.linspace(0.0004, 0.004, 5)\n",
    "alpha_range = np.linspace(0.0010, 0.0019, 10)\n",
    "beta_range = np.linspace(-50, -500, 10)\n",
    "#beta_range = np.linspace(0.00001, 5, 10)\n",
    "\n",
    "\n",
    "# Perform grid search\n",
    "best_alpha, best_beta, best_timeseries = grid_search(hyde, hyde.index, alpha_range, beta_range)\n",
    "\n",
    "# Plot the results\n",
    "print(f\"Best Alpha: {best_alpha}, Best Beta: {best_beta}\")\n",
    "plot_results(hyde, best_timeseries, f\"Best Fit Model (alpha={best_alpha}, beta={best_beta})\")"
   ]
  },
  {
   "cell_type": "markdown",
   "id": "3665bd8f",
   "metadata": {},
   "source": [
    "*To find a good model for this data,I tried using a grid search to find the best parameters for alpha and beta. Unfortunately, after many iteration of different values, I cannot seem to find parameters that match the given data. Attempting to use this model to forecast the later population points seems worthless since the model is so far from the actual estimates.*"
   ]
  },
  {
   "cell_type": "markdown",
   "id": "ruled-spain",
   "metadata": {},
   "source": [
    "## One Queue Or Two?\n",
    "\n",
    "This case study is related to *queueing theory*, which is the study of systems that involve waiting in lines, also known as \"queues\".\n",
    "\n",
    "Suppose you are designing the checkout area for a new store. There is\n",
    "enough room in the store for two checkout counters and a waiting area\n",
    "for customers. You can make two lines, one for each counter, or one line that feeds both counters.\n",
    "\n",
    "In theory, you might expect a single line to be better, but it has some practical drawbacks: in order to maintain a single line, you might have to install barriers, and customers might be put off by what seems to be a longer line, even if it moves faster.\n",
    "\n",
    "So you'd like to check whether the single line is really better and by\n",
    "how much. Simulation can help answer this question.\n",
    "\n",
    "This figure shows the three scenarios we'll consider:\n",
    "\n",
    "![One queue, one server (left), one queue, two servers (middle), two\n",
    "queues, two servers (right).](https://github.com/AllenDowney/ModSim/raw/main/figs/queue.png)\n",
    "\n",
    "*One queue, one server (left), one queue, two servers (middle), two\n",
    "queues, two servers (right).*\n",
    "\n",
    "As we did in the bike share model, we'll divide time into discrete time steps of one minute.\n",
    "And we'll assume that a customer is equally likely to arrive during any time step. \n",
    "I'll denote this probability using the Greek letter lambda, $\\lambda$, or the variable name `lam`. The value of $\\lambda$ probably varies from day to day, so we'll have to consider a range of possibilities.\n",
    "\n",
    "Based on data from other stores, you know that it takes 5 minutes for a customer to check out, on average. But checkout times are variable: most customers take less than 5 minutes, but some take substantially more. A simple way to model this variability is to assume that when a customer is checking out, they always have the same probability of finishing during the next time step, regardless of how long they have been checking out. I'll denote this probability using the Greek letter mu, $\\mu$, or the variable name `mu`.\n",
    "\n",
    "If we choose $\\mu=1/5$ per minute, the average time for each checkout\n",
    "will be 5 minutes, which is consistent with the data. Most people take less than 5 minutes, but a few take substantially longer, which is probably not a bad model of the distribution in real stores.\n",
    "\n",
    "Now we're ready to implement the model. In the repository for this book, you'll find a notebook called *queue.ipynb* that contains some code to get you started and instructions.\n",
    "You can download it from <https://github.com/AllenDowney/ModSimPy/raw/master/examples/queue.ipynb> or run it on Colab at <https://colab.research.google.com/github/AllenDowney/ModSimPy/blob/master/examples/queue.ipynb>.\n",
    "\n",
    "As always, you should practice incremental development: write no more\n",
    "than one or two lines of code at a time, and test as you go!"
   ]
  },
  {
   "cell_type": "markdown",
   "id": "forward-point",
   "metadata": {},
   "source": [
    "## Predicting Salmon Populations\n",
    "\n",
    "Each year the U.S. Atlantic Salmon Assessment Committee reports\n",
    "estimates of salmon populations in oceans and rivers in the northeastern United States. The reports are useful for monitoring changes in these populations, but they generally do not include predictions.\n",
    "\n",
    "The goal of this case study is to model year-to-year changes in\n",
    "population, evaluate how predictable these changes are, and estimate the probability that a particular population will increase or decrease in the next 10 years.\n",
    "\n",
    "As an example, I use data from the 2017 report, which provides population estimates for the Narraguagus and Sheepscot Rivers\n",
    "in Maine.\n",
    "\n",
    "In the repository for this book, you'll find a notebook called\n",
    "*salmon.ipynb* that contains this data and some code to get you started.\n",
    "You can download it from <https://github.com/AllenDowney/ModSimPy/raw/master/examples/salmon.ipynb> or run it on Colab at <https://colab.research.google.com/github/AllenDowney/ModSimPy/blob/master/examples/salmon.ipynb>.\n",
    "\n",
    "You should take my instructions as suggestions; if you want to try\n",
    "something different, please do!\n",
    "\n"
   ]
  },
  {
   "cell_type": "markdown",
   "id": "limiting-moore",
   "metadata": {},
   "source": [
    "## Tree Growth\n",
    "\n",
    "This case study is based on \"Height-Age Curves for Planted Stands of\n",
    "Douglas Fir, with Adjustments for Density\", a working paper by\n",
    "Flewelling et al.\n",
    "It provides *site index curves*, which are curves that show the\n",
    "expected height of the tallest tree in a stand of Douglas fir as a\n",
    "function of age, for a stand where the trees are the same age.\n",
    "Depending on the quality of the site, the trees might grow more quickly or slowly. So each curve is identified by a *site index* that indicates the quality of the site.\n",
    "\n",
    "The goal of this case study is to explain the shape of these\n",
    "curves, that is, why trees grow the way they do.\n",
    "The answer I propose involves fractal dimensions, so you might find it interesting.\n",
    "\n",
    "In the repository for this book, you'll find a notebook called\n",
    "*trees.ipynb* that incrementally develops a model of tree growth and uses it to fit the data.\n",
    "You can download it from <https://github.com/AllenDowney/ModSimPy/raw/master/examples/trees.ipynb> or run it on Colab at <https://colab.research.google.com/github/AllenDowney/ModSimPy/blob/master/examples/trees.ipynb>.\n",
    "\n",
    "There are no exercises in this case study, but it is an example of what you can do with the tools we have so far and a preview of what you will be able to do with the tools in the next few chapters."
   ]
  },
  {
   "cell_type": "code",
   "execution_count": null,
   "id": "australian-gregory",
   "metadata": {},
   "outputs": [],
   "source": []
  }
 ],
 "metadata": {
  "celltoolbar": "Tags",
  "kernelspec": {
   "display_name": "Python 3 (ipykernel)",
   "language": "python",
   "name": "python3"
  },
  "language_info": {
   "codemirror_mode": {
    "name": "ipython",
    "version": 3
   },
   "file_extension": ".py",
   "mimetype": "text/x-python",
   "name": "python",
   "nbconvert_exporter": "python",
   "pygments_lexer": "ipython3",
   "version": "3.12.0"
  }
 },
 "nbformat": 4,
 "nbformat_minor": 5
}
